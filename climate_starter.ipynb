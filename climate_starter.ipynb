{
 "cells": [
  {
   "cell_type": "code",
   "execution_count": 1,
   "metadata": {},
   "outputs": [],
   "source": [
    "#Description:  010-SQLAlchemy_Homework\n",
    "#\n",
    "#\n",
    "#   Modification Summary:\n",
    "#   DD-MMM-YYYY    Author          Description\n",
    "#   31-Jul-2019    Stacey Smith     Initial Creation\n",
    "#\n",
    "#"
   ]
  },
  {
   "cell_type": "code",
   "execution_count": 2,
   "metadata": {},
   "outputs": [],
   "source": [
    "%matplotlib inline\n",
    "from matplotlib import style\n",
    "style.use('fivethirtyeight')\n",
    "import matplotlib.pyplot as plt"
   ]
  },
  {
   "cell_type": "code",
   "execution_count": 3,
   "metadata": {},
   "outputs": [],
   "source": [
    "import numpy as np\n",
    "import pandas as pd"
   ]
  },
  {
   "cell_type": "code",
   "execution_count": 4,
   "metadata": {},
   "outputs": [],
   "source": [
    "import datetime as dt\n",
    "from datetime import timedelta"
   ]
  },
  {
   "cell_type": "markdown",
   "metadata": {},
   "source": [
    "# Reflect Tables into SQLAlchemy ORM"
   ]
  },
  {
   "cell_type": "code",
   "execution_count": 5,
   "metadata": {},
   "outputs": [],
   "source": [
    "# Python SQL toolkit and Object Relational Mapper\n",
    "import sqlalchemy\n",
    "from sqlalchemy.ext.automap import automap_base\n",
    "from sqlalchemy.orm import Session\n",
    "from sqlalchemy import create_engine, func, inspect"
   ]
  },
  {
   "cell_type": "code",
   "execution_count": 6,
   "metadata": {},
   "outputs": [],
   "source": [
    "engine = create_engine(\"sqlite:///Resources/hawaii.sqlite\")\n",
    "\n",
    "conn = engine.connect()\n",
    "inspector = inspect(engine)"
   ]
  },
  {
   "cell_type": "code",
   "execution_count": 7,
   "metadata": {},
   "outputs": [
    {
     "name": "stdout",
     "output_type": "stream",
     "text": [
      "measurement\n",
      "    id INTEGER\n",
      "    station TEXT\n",
      "    date TEXT\n",
      "    prcp FLOAT\n",
      "    tobs FLOAT\n",
      "station\n",
      "    id INTEGER\n",
      "    station TEXT\n",
      "    name TEXT\n",
      "    latitude FLOAT\n",
      "    longitude FLOAT\n",
      "    elevation FLOAT\n"
     ]
    }
   ],
   "source": [
    "# Get table information\n",
    "inspector.get_table_names()\n",
    "\n",
    "tables = inspector.get_table_names()\n",
    "for table in tables:\n",
    "    print(table)\n",
    "    columns = inspector.get_columns(table)\n",
    "    for column in columns:\n",
    "        print('   ', column[\"name\"], column[\"type\"])"
   ]
  },
  {
   "cell_type": "code",
   "execution_count": 8,
   "metadata": {},
   "outputs": [
    {
     "data": {
      "text/plain": [
       "['measurement', 'station']"
      ]
     },
     "execution_count": 8,
     "metadata": {},
     "output_type": "execute_result"
    }
   ],
   "source": [
    "# reflect an existing database into a new model\n",
    "Base = automap_base()\n",
    "\n",
    "# reflect the tables\n",
    "Base.prepare(engine, reflect=True)\n",
    "\n",
    "# We can view all of the classes that automap found\n",
    "Base.classes.keys()"
   ]
  },
  {
   "cell_type": "code",
   "execution_count": 9,
   "metadata": {},
   "outputs": [],
   "source": [
    "# Save references to each table\n",
    "measurement = Base.classes.measurement\n",
    "station = Base.classes.station"
   ]
  },
  {
   "cell_type": "code",
   "execution_count": 10,
   "metadata": {},
   "outputs": [],
   "source": [
    "# Create our session (link) from Python to the DB\n",
    "session = Session(engine)"
   ]
  },
  {
   "cell_type": "markdown",
   "metadata": {},
   "source": [
    "# Exploratory Climate Analysis"
   ]
  },
  {
   "cell_type": "code",
   "execution_count": 11,
   "metadata": {},
   "outputs": [],
   "source": [
    "# Design a query to retrieve the last 12 months of precipitation data and plot the results\n",
    "\n",
    "# Calculate the date 1 year ago from the last data point in the database\n",
    "max_date = session.query(func.max(measurement.date))\n",
    "for row in max_date:\n",
    "    last_date = dt.datetime.strptime((str(row)).strip(\"('',)\"), '%Y-%m-%d')\n",
    "   \n",
    "one_year = last_date - dt.timedelta(days=365)\n",
    "\n",
    "\n",
    "# Perform a query to retrieve the data and precipitation scores\n",
    "prcp_year = session.query(measurement.id, measurement.station, measurement.date, measurement.prcp, measurement.tobs).\\\n",
    "    filter(measurement.date < max_date).\\\n",
    "    filter(measurement.date > one_year)\n",
    "   \n",
    "prcp_data = []\n",
    "    \n",
    "for i in prcp_year:\n",
    "   prcp_data.append(i)\n",
    " "
   ]
  },
  {
   "cell_type": "code",
   "execution_count": 12,
   "metadata": {},
   "outputs": [],
   "source": [
    "# Save the query results as a Pandas DataFrame and set the index to the date column\n",
    "# Sort the dataframe by date\n",
    "\n",
    "prcp = pd.DataFrame(prcp_data)\n",
    "prcp_date = prcp.set_index('date')\n",
    "prcp_date.sort_values(by=['date'])\n",
    "\n",
    "# Creating 364 data points for the plot below.  Plotting the total precipitation by date between Aug 2016 and Aug 2017\n",
    "prcp_plot = prcp_date.groupby(level=0).sum()"
   ]
  },
  {
   "cell_type": "code",
   "execution_count": 13,
   "metadata": {},
   "outputs": [
    {
     "data": {
      "image/png": "[encoded data removed]",
      "text/plain": [
       "<Figure size 432x288 with 1 Axes>"
      ]
     },
     "metadata": {
      "needs_background": "light"
     },
     "output_type": "display_data"
    }
   ],
   "source": [
    "# Use Pandas Plotting with Matplotlib to plot the data (precipitation by date)\n",
    "dates = prcp_plot.index.values\n",
    "prcp = prcp_plot['prcp']\n",
    "x_axis = np.arange(len(dates))\n",
    "\n",
    "\n",
    "plt.bar(x_axis, prcp, color='darkblue', alpha=0.5, align='center', label='precipitation')\n",
    "\n",
    "plt.legend(loc='upper center', borderaxespad=0, fontsize = 12) \n",
    "\n",
    "plt.tick_params(axis = 'x', bottom=False, labelbottom=False)\n",
    "\n",
    "plt.xlim(-1, len(x_axis))\n",
    "\n",
    "plt.xlabel(\"date\")\n",
    "\n",
    "plt.savefig(\"Images/Precipitation_by_Date.png\")\n",
    "plt.show()\n"
   ]
  },
  {
   "cell_type": "code",
   "execution_count": 14,
   "metadata": {},
   "outputs": [
    {
     "data": {
      "text/html": [
       "<div>\n",
       "<style scoped>\n",
       "    .dataframe tbody tr th:only-of-type {\n",
       "        vertical-align: middle;\n",
       "    }\n",
       "\n",
       "    .dataframe tbody tr th {\n",
       "        vertical-align: top;\n",
       "    }\n",
       "\n",
       "    .dataframe thead th {\n",
       "        text-align: right;\n",
       "    }\n",
       "</style>\n",
       "<table border=\"1\" class=\"dataframe\">\n",
       "  <thead>\n",
       "    <tr style=\"text-align: right;\">\n",
       "      <th></th>\n",
       "      <th>id</th>\n",
       "      <th>prcp</th>\n",
       "      <th>tobs</th>\n",
       "    </tr>\n",
       "  </thead>\n",
       "  <tbody>\n",
       "    <tr>\n",
       "      <th>count</th>\n",
       "      <td>2219.000000</td>\n",
       "      <td>2011.000000</td>\n",
       "      <td>2219.000000</td>\n",
       "    </tr>\n",
       "    <tr>\n",
       "      <th>mean</th>\n",
       "      <td>10158.739973</td>\n",
       "      <td>0.176549</td>\n",
       "      <td>74.568725</td>\n",
       "    </tr>\n",
       "    <tr>\n",
       "      <th>std</th>\n",
       "      <td>5603.129354</td>\n",
       "      <td>0.460667</td>\n",
       "      <td>4.608881</td>\n",
       "    </tr>\n",
       "    <tr>\n",
       "      <th>min</th>\n",
       "      <td>2365.000000</td>\n",
       "      <td>0.000000</td>\n",
       "      <td>58.000000</td>\n",
       "    </tr>\n",
       "    <tr>\n",
       "      <th>25%</th>\n",
       "      <td>5287.500000</td>\n",
       "      <td>0.000000</td>\n",
       "      <td>71.000000</td>\n",
       "    </tr>\n",
       "    <tr>\n",
       "      <th>50%</th>\n",
       "      <td>8931.000000</td>\n",
       "      <td>0.020000</td>\n",
       "      <td>75.000000</td>\n",
       "    </tr>\n",
       "    <tr>\n",
       "      <th>75%</th>\n",
       "      <td>14751.500000</td>\n",
       "      <td>0.130000</td>\n",
       "      <td>78.000000</td>\n",
       "    </tr>\n",
       "    <tr>\n",
       "      <th>max</th>\n",
       "      <td>19549.000000</td>\n",
       "      <td>6.700000</td>\n",
       "      <td>87.000000</td>\n",
       "    </tr>\n",
       "  </tbody>\n",
       "</table>\n",
       "</div>"
      ],
      "text/plain": [
       "                 id         prcp         tobs\n",
       "count   2219.000000  2011.000000  2219.000000\n",
       "mean   10158.739973     0.176549    74.568725\n",
       "std     5603.129354     0.460667     4.608881\n",
       "min     2365.000000     0.000000    58.000000\n",
       "25%     5287.500000     0.000000    71.000000\n",
       "50%     8931.000000     0.020000    75.000000\n",
       "75%    14751.500000     0.130000    78.000000\n",
       "max    19549.000000     6.700000    87.000000"
      ]
     },
     "execution_count": 14,
     "metadata": {},
     "output_type": "execute_result"
    }
   ],
   "source": [
    "# Use Pandas to calcualte the summary statistics for the precipitation data\n",
    "prcp_date.describe()\n"
   ]
  },
  {
   "cell_type": "markdown",
   "metadata": {},
   "source": [
    "# Station Analysis"
   ]
  },
  {
   "cell_type": "code",
   "execution_count": 15,
   "metadata": {},
   "outputs": [
    {
     "name": "stdout",
     "output_type": "stream",
     "text": [
      "19550\n",
      "9\n"
     ]
    }
   ],
   "source": [
    "# Design a query to show how many stations are available in this dataset?\n",
    "# It's not clear which dataset they are referring to. So I'll calculate the number of stations in each one. \n",
    "\n",
    "#measurement\n",
    "m_station_count = session.query(measurement.station).count()\n",
    "print(m_station_count)\n",
    "\n",
    "#station\n",
    "s_station_count = session.query(station.station).distinct().count()\n",
    "print(s_station_count)"
   ]
  },
  {
   "cell_type": "code",
   "execution_count": 16,
   "metadata": {},
   "outputs": [
    {
     "data": {
      "text/plain": [
       "[('USC00519281', 2772),\n",
       " ('USC00519397', 2724),\n",
       " ('USC00513117', 2709),\n",
       " ('USC00519523', 2669),\n",
       " ('USC00516128', 2612),\n",
       " ('USC00514830', 2202),\n",
       " ('USC00511918', 1979),\n",
       " ('USC00517948', 1372),\n",
       " ('USC00518838', 511)]"
      ]
     },
     "execution_count": 16,
     "metadata": {},
     "output_type": "execute_result"
    }
   ],
   "source": [
    "# What are the most active stations? (i.e. what stations have the most rows)?\n",
    "# List the stations and the counts in descending order.\n",
    "\n",
    "def takeSecond(elem):\n",
    "    return elem[1]\n",
    "\n",
    "active_stations = session.query(measurement.station, func.count(measurement.station)).group_by(measurement.station).all()\n",
    "active_stations.sort(key=takeSecond, reverse=True)\n",
    "active_stations"
   ]
  },
  {
   "cell_type": "code",
   "execution_count": 17,
   "metadata": {},
   "outputs": [
    {
     "name": "stdout",
     "output_type": "stream",
     "text": [
      " The low temp for station USC00519281 is 54.0\n",
      " The high temp for station USC00519281 is 85.0\n",
      " The average temp for station USC00519281 is 71.66378066378067\n"
     ]
    }
   ],
   "source": [
    "# Using the station id from the previous query, calculate the lowest temperature recorded, \n",
    "# highest temperature recorded, and average temperature most active station?\n",
    "\n",
    "low_temp = session.query(func.min(measurement.tobs)).filter_by(station='USC00519281')\n",
    "for row in low_temp:\n",
    "    print(f' The low temp for station USC00519281 is {str(row).strip(\"(,)\")}')\n",
    "\n",
    "high_temp = session.query(func.max(measurement.tobs)).filter_by(station='USC00519281')\n",
    "for row in high_temp:\n",
    "    print(f' The high temp for station USC00519281 is {str(row).strip(\"(,)\")}')\n",
    "          \n",
    "avg_temp = session.query(func.avg(measurement.tobs)).filter_by(station='USC00519281')\n",
    "for row in avg_temp:\n",
    "    print(f' The average temp for station USC00519281 is {str(row).strip(\"(,)\")}')          \n"
   ]
  },
  {
   "cell_type": "code",
   "execution_count": 18,
   "metadata": {},
   "outputs": [
    {
     "data": {
      "text/html": [
       "<div>\n",
       "<style scoped>\n",
       "    .dataframe tbody tr th:only-of-type {\n",
       "        vertical-align: middle;\n",
       "    }\n",
       "\n",
       "    .dataframe tbody tr th {\n",
       "        vertical-align: top;\n",
       "    }\n",
       "\n",
       "    .dataframe thead th {\n",
       "        text-align: right;\n",
       "    }\n",
       "</style>\n",
       "<table border=\"1\" class=\"dataframe\">\n",
       "  <thead>\n",
       "    <tr style=\"text-align: right;\">\n",
       "      <th></th>\n",
       "      <th>id</th>\n",
       "      <th>station</th>\n",
       "      <th>date</th>\n",
       "      <th>prcp</th>\n",
       "      <th>tobs</th>\n",
       "    </tr>\n",
       "  </thead>\n",
       "  <tbody>\n",
       "    <tr>\n",
       "      <th>0</th>\n",
       "      <td>14609</td>\n",
       "      <td>USC00519281</td>\n",
       "      <td>2016-08-24</td>\n",
       "      <td>2.15</td>\n",
       "      <td>77.0</td>\n",
       "    </tr>\n",
       "    <tr>\n",
       "      <th>1</th>\n",
       "      <td>14610</td>\n",
       "      <td>USC00519281</td>\n",
       "      <td>2016-08-25</td>\n",
       "      <td>0.06</td>\n",
       "      <td>80.0</td>\n",
       "    </tr>\n",
       "    <tr>\n",
       "      <th>2</th>\n",
       "      <td>14611</td>\n",
       "      <td>USC00519281</td>\n",
       "      <td>2016-08-26</td>\n",
       "      <td>0.01</td>\n",
       "      <td>80.0</td>\n",
       "    </tr>\n",
       "    <tr>\n",
       "      <th>3</th>\n",
       "      <td>14612</td>\n",
       "      <td>USC00519281</td>\n",
       "      <td>2016-08-27</td>\n",
       "      <td>0.12</td>\n",
       "      <td>75.0</td>\n",
       "    </tr>\n",
       "    <tr>\n",
       "      <th>4</th>\n",
       "      <td>14613</td>\n",
       "      <td>USC00519281</td>\n",
       "      <td>2016-08-28</td>\n",
       "      <td>0.60</td>\n",
       "      <td>73.0</td>\n",
       "    </tr>\n",
       "  </tbody>\n",
       "</table>\n",
       "</div>"
      ],
      "text/plain": [
       "      id      station        date  prcp  tobs\n",
       "0  14609  USC00519281  2016-08-24  2.15  77.0\n",
       "1  14610  USC00519281  2016-08-25  0.06  80.0\n",
       "2  14611  USC00519281  2016-08-26  0.01  80.0\n",
       "3  14612  USC00519281  2016-08-27  0.12  75.0\n",
       "4  14613  USC00519281  2016-08-28  0.60  73.0"
      ]
     },
     "execution_count": 18,
     "metadata": {},
     "output_type": "execute_result"
    }
   ],
   "source": [
    "# Choose the station with the highest number of temperature observations.\n",
    "# Query the last 12 months of temperature observation data for this station and plot the results as a histogram\n",
    "\n",
    "#Filter by the station with the highest number of observations.\n",
    "\n",
    "\n",
    "tobs_year = session.query(measurement.id, measurement.station, measurement.date, measurement.prcp, measurement.tobs).\\\n",
    "    filter(measurement.date < max_date).\\\n",
    "    filter(measurement.date > one_year).\\\n",
    "    filter(measurement.station=='USC00519281')\n",
    "   \n",
    "tobs_data = []\n",
    "    \n",
    "for i in tobs_year:\n",
    "    tobs_data.append(i)\n",
    "\n",
    "tobs = pd.DataFrame(tobs_data)\n",
    "tobs.head()"
   ]
  },
  {
   "cell_type": "code",
   "execution_count": 19,
   "metadata": {},
   "outputs": [
    {
     "data": {
      "image/png": "[encoded data removed]",
      "text/plain": [
       "<Figure size 432x288 with 1 Axes>"
      ]
     },
     "metadata": {
      "needs_background": "light"
     },
     "output_type": "display_data"
    }
   ],
   "source": [
    "#Plot the results as a histogram with bins=12\n",
    "x = tobs['tobs']\n",
    "bins = 12\n",
    "\n",
    "fig = plt.figure()\n",
    "\n",
    "\n",
    "n, bins, patches = plt.hist(x, bins, facecolor='blue', label='tobs')\n",
    "\n",
    "\n",
    "plt.legend(loc='upper right', borderaxespad=0, fontsize = 12) \n",
    "plt.ylabel('Frequency')\n",
    "\n",
    "plt.savefig(\"Images/Tobs_Frequency.png\")\n",
    "plt.show()\n"
   ]
  }
 ],
 "metadata": {
  "kernel_info": {
   "name": "python3"
  },
  "kernelspec": {
   "display_name": "Python 3",
   "language": "python",
   "name": "python3"
  },
  "language_info": {
   "codemirror_mode": {
    "name": "ipython",
    "version": 3
   },
   "file_extension": ".py",
   "mimetype": "text/x-python",
   "name": "python",
   "nbconvert_exporter": "python",
   "pygments_lexer": "ipython3",
   "version": "3.7.3"
  },
  "nteract": {
   "version": "0.12.3"
  },
  "varInspector": {
   "cols": {
    "lenName": 16,
    "lenType": 16,
    "lenVar": 40
   },
   "kernels_config": {
    "python": {
     "delete_cmd_postfix": "",
     "delete_cmd_prefix": "del ",
     "library": "var_list.py",
     "varRefreshCmd": "print(var_dic_list())"
    },
    "r": {
     "delete_cmd_postfix": ") ",
     "delete_cmd_prefix": "rm(",
     "library": "var_list.r",
     "varRefreshCmd": "cat(var_dic_list()) "
    }
   },
   "types_to_exclude": [
    "module",
    "function",
    "builtin_function_or_method",
    "instance",
    "_Feature"
   ],
   "window_display": false
  }
 },
 "nbformat": 4,
 "nbformat_minor": 2
}

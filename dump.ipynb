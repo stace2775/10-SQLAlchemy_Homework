{
 "cells": [
  {
   "cell_type": "code",
   "execution_count": null,
   "metadata": {},
   "outputs": [],
   "source": [
    "\n",
    "class measurement(Base):\n",
    "    __tablename__ = 'measurement'\n",
    "    id = Column(Integer, primary_key=True)\n",
    "    station = Column(String(15))\n",
    "    date = Column(String(10))\n",
    "    prcp = Column(Float)\n",
    "    tobs = Column(Integer)\n",
    "\n",
    "class Board(Base):\n",
    "    __tablename__ = 'surfboards'\n",
    "    id = Column(Integer, primary_key=True)\n",
    "    station = Column(String(15))\n",
    "    name = Column(String(255))\n",
    "    latitude = Column(Float)\n",
    "    longitude = Column(Float)\n",
    "    elevation = Column(Integer)\n",
    "    \n",
    "    \n",
    "    from sqlalchemy.ext.declarative import declarative_base\n",
    "Base = declarative_base()\n",
    "from sqlalchemy import Column, Integer, String, Float\n",
    "\n",
    "\n",
    "#To view the table names in the open db connection:\n",
    "table_data = conn.execute('SELECT name from sqlite_master where type=\"table\";')\n",
    "df = pd.DataFrame(table_data)\n",
    "\n",
    "\n",
    "m_Query = pd.read_sql_query(\"SELECT * FROM measurement\", conn)\n",
    "measurement_df = pd.DataFrame(m_Query)\n",
    "measurement_df.head()\n",
    "\n",
    "s_Query = pd.read_sql_query(\"SELECT * FROM station\", conn)\n",
    "station_df = pd.DataFrame(s_Query)\n",
    "station_df.head()\n",
    "\n",
    "measurement_df.head()"
   ]
  }
 ],
 "metadata": {
  "kernelspec": {
   "display_name": "Python 3",
   "language": "python",
   "name": "python3"
  },
  "language_info": {
   "codemirror_mode": {
    "name": "ipython",
    "version": 3
   },
   "file_extension": ".py",
   "mimetype": "text/x-python",
   "name": "python",
   "nbconvert_exporter": "python",
   "pygments_lexer": "ipython3",
   "version": "3.7.3"
  }
 },
 "nbformat": 4,
 "nbformat_minor": 2
}
